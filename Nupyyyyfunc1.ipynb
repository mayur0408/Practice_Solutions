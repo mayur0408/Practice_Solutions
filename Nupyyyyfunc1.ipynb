{
 "cells": [
  {
   "cell_type": "markdown",
   "metadata": {},
   "source": [
    "# Numpy Basic functions !"
   ]
  },
  {
   "cell_type": "code",
   "execution_count": 1,
   "metadata": {
    "scrolled": true
   },
   "outputs": [
    {
     "name": "stdout",
     "output_type": "stream",
     "text": [
      "[1 2 3 4 5 6 7 8]\n",
      "<class 'numpy.ndarray'>\n"
     ]
    }
   ],
   "source": [
    "import numpy as np\n",
    "arr=np.array([1,2,3,4,5,6,7,8])\n",
    "print(arr)\n",
    "print(type(arr))"
   ]
  },
  {
   "cell_type": "code",
   "execution_count": 2,
   "metadata": {},
   "outputs": [
    {
     "name": "stdout",
     "output_type": "stream",
     "text": [
      "[[1 2 3 4]\n",
      " [5 6 7 8]]\n"
     ]
    },
    {
     "data": {
      "text/plain": [
       "dtype('int64')"
      ]
     },
     "execution_count": 2,
     "metadata": {},
     "output_type": "execute_result"
    }
   ],
   "source": [
    "arr1=np.array([[1,2,3,4],[5,6,7,8]],dtype='int64')\n",
    "print(arr1)\n",
    "arr1.shape\n",
    "arr1.dtype"
   ]
  },
  {
   "cell_type": "markdown",
   "metadata": {},
   "source": [
    "# operations on 2 numpy array (operation on elements !)\n"
   ]
  },
  {
   "cell_type": "code",
   "execution_count": 3,
   "metadata": {},
   "outputs": [
    {
     "name": "stdout",
     "output_type": "stream",
     "text": [
      "[[ 1  4  9 16]\n",
      " [ 5 24 35 48]]\n",
      "[[ 2  4  6  8]\n",
      " [ 6 10 12 14]]\n",
      "[[0 0 0 0]\n",
      " [4 2 2 2]]\n",
      "[[1.         1.         1.         1.        ]\n",
      " [5.         1.5        1.4        1.33333333]]\n"
     ]
    }
   ],
   "source": [
    "arr2=np.array([[1,2,3,4],[1,4,5,6]],dtype='int64')\n",
    "a=arr1*arr2\n",
    "print(a)\n",
    "b=arr1+arr2\n",
    "print(b)\n",
    "c=arr1-arr2\n",
    "print(c)\n",
    "d=arr1/arr2\n",
    "print(d)"
   ]
  },
  {
   "cell_type": "markdown",
   "metadata": {},
   "source": [
    "# slicing !\n"
   ]
  },
  {
   "cell_type": "code",
   "execution_count": 4,
   "metadata": {},
   "outputs": [
    {
     "name": "stdout",
     "output_type": "stream",
     "text": [
      "[4 5]\n",
      "[5 5]\n",
      "[1 2 3 5 5 6]\n"
     ]
    }
   ],
   "source": [
    "arr3=np.array([1,2,3,4,5,6])\n",
    "e=arr3[3:5]\n",
    "print(e)\n",
    "e[0]=5\n",
    "print(e)\n",
    "print(arr3)"
   ]
  },
  {
   "cell_type": "markdown",
   "metadata": {},
   "source": [
    "# some important functions !\n"
   ]
  },
  {
   "cell_type": "code",
   "execution_count": 5,
   "metadata": {},
   "outputs": [
    {
     "name": "stdout",
     "output_type": "stream",
     "text": [
      "[[1 2 3 4]\n",
      " [5 6 7 8]]\n",
      "[ 6  8 10 12] [10 26]\n"
     ]
    }
   ],
   "source": [
    "print(arr1)\n",
    "f=arr1.sum(axis=0) # axis =0 is vertical which means for columns\n",
    "g=arr1.sum(axis=1) # axis =1 is horizontal which means for rows\n",
    "print(f,g)"
   ]
  },
  {
   "cell_type": "markdown",
   "metadata": {},
   "source": [
    "# cross and dot product !\n"
   ]
  },
  {
   "cell_type": "code",
   "execution_count": 6,
   "metadata": {},
   "outputs": [
    {
     "name": "stdout",
     "output_type": "stream",
     "text": [
      "[[1 2 3 4]\n",
      " [5 6 7 8]]\n",
      "[[1 2 3 4]\n",
      " [1 4 5 6]]\n"
     ]
    },
    {
     "data": {
      "text/plain": [
       "array([[ 30,  48],\n",
       "       [ 70, 112]], dtype=int64)"
      ]
     },
     "execution_count": 6,
     "metadata": {},
     "output_type": "execute_result"
    }
   ],
   "source": [
    "print(arr1)\n",
    "print(arr2)\n",
    "np.dot(arr1,arr2.transpose()) #if same dimension perform transpose of matrix"
   ]
  },
  {
   "cell_type": "code",
   "execution_count": 7,
   "metadata": {},
   "outputs": [
    {
     "data": {
      "text/plain": [
       "array([[-11,  -8,   9],\n",
       "       [  2,  -4,   2]])"
      ]
     },
     "execution_count": 7,
     "metadata": {},
     "output_type": "execute_result"
    }
   ],
   "source": [
    "arra1=np.array([[1,2,3],[5,6,7]])\n",
    "arra2=np.array([[0,9,8],[3,4,5]])\n",
    "np.cross(arra1,arra2)"
   ]
  },
  {
   "cell_type": "markdown",
   "metadata": {},
   "source": [
    "# sorting !"
   ]
  },
  {
   "cell_type": "code",
   "execution_count": 8,
   "metadata": {},
   "outputs": [
    {
     "name": "stdout",
     "output_type": "stream",
     "text": [
      "[[9 8 5 4]\n",
      " [7 6 7 6]]\n",
      "[[7 6 5 4]\n",
      " [9 8 7 6]]\n",
      "[[4 5 8 9]\n",
      " [6 6 7 7]]\n"
     ]
    }
   ],
   "source": [
    "arra3=np.array([[9,8,5,4],[7,6,7,6]])\n",
    "print(arra3)\n",
    "v=np.sort(arra3,axis=0,kind='quicksort') #sorted by columns as axis= 0 , kind is used to select any alogrithm for sorting\n",
    "u=np.sort(arra3,axis=1,kind='mergesort') #sorted by rows as axis = 1 \n",
    "print(v)\n",
    "print(u)"
   ]
  },
  {
   "cell_type": "markdown",
   "metadata": {},
   "source": [
    "# some more functions in numpy !"
   ]
  },
  {
   "cell_type": "code",
   "execution_count": 9,
   "metadata": {},
   "outputs": [
    {
     "name": "stdout",
     "output_type": "stream",
     "text": [
      "[0 1 2 3 4 5 6 7]\n",
      "[[0 1 2 3]\n",
      " [4 5 6 7]]\n",
      "[[0 1]\n",
      " [2 3]\n",
      " [4 5]\n",
      " [6 7]]\n"
     ]
    }
   ],
   "source": [
    "arra4=np.arange(8)\n",
    "print(arra4)\n",
    "m=arra4.reshape(2,4)\n",
    "n=arra4.reshape(4,2)\n",
    "print(m)\n",
    "print(n)"
   ]
  },
  {
   "cell_type": "code",
   "execution_count": 10,
   "metadata": {},
   "outputs": [
    {
     "data": {
      "text/plain": [
       "array([ 3, 12,  0,  4, 11,  9,  1, 10,  7,  2,  6, 13, 14,  8,  5, 15, 16],\n",
       "      dtype=int64)"
      ]
     },
     "execution_count": 10,
     "metadata": {},
     "output_type": "execute_result"
    }
   ],
   "source": [
    "arra5=np.array([2,4,6,1,2,9,7,5,9,3,4,2,1,7,8,9,10])\n",
    "np.argsort(arra5)\n"
   ]
  },
  {
   "cell_type": "code",
   "execution_count": 11,
   "metadata": {},
   "outputs": [
    {
     "data": {
      "text/plain": [
       "0"
      ]
     },
     "execution_count": 11,
     "metadata": {},
     "output_type": "execute_result"
    }
   ],
   "source": [
    "np.argmin(b)"
   ]
  },
  {
   "cell_type": "code",
   "execution_count": 12,
   "metadata": {},
   "outputs": [
    {
     "data": {
      "text/plain": [
       "7"
      ]
     },
     "execution_count": 12,
     "metadata": {},
     "output_type": "execute_result"
    }
   ],
   "source": [
    "np.argmax(b)"
   ]
  }
 ],
 "metadata": {
  "kernelspec": {
   "display_name": "Python 3",
   "language": "python",
   "name": "python3"
  },
  "language_info": {
   "codemirror_mode": {
    "name": "ipython",
    "version": 3
   },
   "file_extension": ".py",
   "mimetype": "text/x-python",
   "name": "python",
   "nbconvert_exporter": "python",
   "pygments_lexer": "ipython3",
   "version": "3.7.6"
  }
 },
 "nbformat": 4,
 "nbformat_minor": 4
}
